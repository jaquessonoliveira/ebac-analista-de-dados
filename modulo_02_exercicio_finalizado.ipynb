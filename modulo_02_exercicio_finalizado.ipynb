{
  "nbformat": 4,
  "nbformat_minor": 0,
  "metadata": {
    "colab": {
      "provenance": [],
      "collapsed_sections": [],
      "toc_visible": true
    },
    "kernelspec": {
      "name": "python3",
      "display_name": "Python 3"
    }
  },
  "cells": [
    {
      "cell_type": "markdown",
      "metadata": {
        "id": "KJqp9AANOCtf"
      },
      "source": [
        "<img src=\"https://raw.githubusercontent.com/andre-marcos-perez/ebac-course-utils/main/media/logo/newebac_logo_black_half.png\" alt=\"ebac-logo\">\n",
        "\n",
        "---\n",
        "\n",
        "# **Módulo** | Python: Estruturas de Dados\n",
        "Caderno de **Exercícios**<br> \n",
        "Professor [André Perez](https://www.linkedin.com/in/andremarcosperez/)\n",
        "\n",
        "---"
      ]
    },
    {
      "cell_type": "markdown",
      "metadata": {
        "id": "d9jDtUbDOE1-"
      },
      "source": [
        "# **Tópicos**\n",
        "\n",
        "<ol type=\"1\">\n",
        "  <li>Listas;</li>\n",
        "  <li>Conjuntos;</li>\n",
        "  <li>Dicionários.</li>\n",
        "</ol>"
      ]
    },
    {
      "cell_type": "markdown",
      "metadata": {
        "id": "SmoHgt-lwkpD"
      },
      "source": [
        "---"
      ]
    },
    {
      "cell_type": "markdown",
      "metadata": {
        "id": "GABI6OW8OfQ2"
      },
      "source": [
        "# **Exercícios**"
      ]
    },
    {
      "cell_type": "markdown",
      "metadata": {
        "id": "muD1vxozykSC"
      },
      "source": [
        "## 1\\. Listas"
      ]
    },
    {
      "cell_type": "markdown",
      "metadata": {
        "id": "ahrFfCuBxJKs"
      },
      "source": [
        "Criei uma lista chamada `filmes` com o nome dos 10 primeiros filmes mais bem avaliados no site no [IMDB](https://www.imdb.com/chart/top/). Imprima o resultado."
      ]
    },
    {
      "cell_type": "code",
      "metadata": {
        "id": "OgL6Hv3bzOHI",
        "colab": {
          "base_uri": "https://localhost:8080/"
        },
        "outputId": "1f6be3d9-69ff-43da-a9a3-802f53331d69"
      },
      "source": [
        "filmes = ['Um Sonho de Liberdade','O Poderoso Chefão','O Poderoso Chefão II','Batman: O Cavaleiro das Trevas','A Lista de Schindler','12 Homens e uma Sentença','Pulp Fiction: Tempo de Violência','O Senhor dos Anéis: O Retorno do Rei','Três Homens em Conflito','Clube da Luta']\n",
        "print(filmes)\n",
        "print(type(filmes))\n",
        "print(len(filmes))\n"
      ],
      "execution_count": 5,
      "outputs": [
        {
          "output_type": "stream",
          "name": "stdout",
          "text": [
            "['Um Sonho de Liberdade', 'O Poderoso Chefão', 'O Poderoso Chefão II', 'Batman: O Cavaleiro das Trevas', 'A Lista de Schindler', '12 Homens e uma Sentença', 'Pulp Fiction: Tempo de Violência', 'O Senhor dos Anéis: O Retorno do Rei', 'Três Homens em Conflito', 'Clube da Luta']\n",
            "<class 'list'>\n",
            "10\n"
          ]
        }
      ]
    },
    {
      "cell_type": "markdown",
      "metadata": {
        "id": "KI9zQRT2xa7m"
      },
      "source": [
        "Simule a movimentação do *ranking*. Utilize os métodos `insert` e `pop` para trocar a posição do primeiro e do segundo filme da lista. Imprima o resultado.\n",
        "\n"
      ]
    },
    {
      "cell_type": "code",
      "metadata": {
        "id": "zX3mA3_GzrXH",
        "colab": {
          "base_uri": "https://localhost:8080/"
        },
        "outputId": "4c79fa89-3a48-47d1-d626-bbdbcf8679b4"
      },
      "source": [
        "filme = filmes.pop(1)\n",
        "print(filme)\n",
        "filmes.insert(0, filme)\n",
        "print(filmes)\n",
        "print(len(filmes))"
      ],
      "execution_count": 6,
      "outputs": [
        {
          "output_type": "stream",
          "name": "stdout",
          "text": [
            "O Poderoso Chefão\n",
            "['O Poderoso Chefão', 'Um Sonho de Liberdade', 'O Poderoso Chefão II', 'Batman: O Cavaleiro das Trevas', 'A Lista de Schindler', '12 Homens e uma Sentença', 'Pulp Fiction: Tempo de Violência', 'O Senhor dos Anéis: O Retorno do Rei', 'Três Homens em Conflito', 'Clube da Luta']\n",
            "10\n"
          ]
        }
      ]
    },
    {
      "cell_type": "markdown",
      "metadata": {
        "id": "zMN1Q3jdwoJm"
      },
      "source": [
        "---"
      ]
    },
    {
      "cell_type": "markdown",
      "metadata": {
        "id": "lxa5L6uF0ZJE"
      },
      "source": [
        "## 2\\. Conjuntos"
      ]
    },
    {
      "cell_type": "markdown",
      "metadata": {
        "id": "9JahS2Kj0d5u"
      },
      "source": [
        "Aconteceu um erro no seu *ranking*. Simule a duplicação dos três últimos filmes da lista. Imprima o resultado."
      ]
    },
    {
      "cell_type": "code",
      "metadata": {
        "id": "BnjnLBNC6PGe",
        "colab": {
          "base_uri": "https://localhost:8080/"
        },
        "outputId": "5f220766-6874-47e3-fd55-f66dff4bdeac"
      },
      "source": [
        "filmes = ['Um Sonho de Liberdade','O Poderoso Chefão','O Poderoso Chefão II','Batman: O Cavaleiro das Trevas','A Lista de Schindler','12 Homens e uma Sentença','Pulp Fiction: Tempo de Violência','O Senhor dos Anéis: O Retorno do Rei','O Senhor dos Anéis: O Retorno do Rei','Três Homens em Conflito','Três Homens em Conflito','Clube da Luta','Clube da Luta']\n",
        "print(filmes)\n",
        "print(len(filmes))\n"
      ],
      "execution_count": 7,
      "outputs": [
        {
          "output_type": "stream",
          "name": "stdout",
          "text": [
            "['Um Sonho de Liberdade', 'O Poderoso Chefão', 'O Poderoso Chefão II', 'Batman: O Cavaleiro das Trevas', 'A Lista de Schindler', '12 Homens e uma Sentença', 'Pulp Fiction: Tempo de Violência', 'O Senhor dos Anéis: O Retorno do Rei', 'O Senhor dos Anéis: O Retorno do Rei', 'Três Homens em Conflito', 'Três Homens em Conflito', 'Clube da Luta', 'Clube da Luta']\n",
            "13\n"
          ]
        }
      ]
    },
    {
      "cell_type": "markdown",
      "metadata": {
        "id": "suxTfCJB6ZiX"
      },
      "source": [
        "Utiliza a conversão `set` e `list` para remover os valores duplicados. Imprima o resultado. "
      ]
    },
    {
      "cell_type": "code",
      "metadata": {
        "id": "ZvUGN-0n6joM",
        "colab": {
          "base_uri": "https://localhost:8080/"
        },
        "outputId": "4ad75f7d-5964-4b68-fa62-c0a720cc9938"
      },
      "source": [
        "nova_lista_filmes = list(set(filmes))\n",
        "print(nova_lista_filmes)\n",
        "print(len(nova_lista_filmes))"
      ],
      "execution_count": 8,
      "outputs": [
        {
          "output_type": "stream",
          "name": "stdout",
          "text": [
            "['Um Sonho de Liberdade', 'A Lista de Schindler', 'O Senhor dos Anéis: O Retorno do Rei', 'O Poderoso Chefão', 'Pulp Fiction: Tempo de Violência', 'Clube da Luta', 'O Poderoso Chefão II', 'Batman: O Cavaleiro das Trevas', '12 Homens e uma Sentença', 'Três Homens em Conflito']\n",
            "10\n"
          ]
        }
      ]
    },
    {
      "cell_type": "markdown",
      "metadata": {
        "id": "ShkK35eQ6pAM"
      },
      "source": [
        "---"
      ]
    },
    {
      "cell_type": "markdown",
      "metadata": {
        "id": "EL_FzmxL6rTv"
      },
      "source": [
        "## 3\\. Dicionários"
      ]
    },
    {
      "cell_type": "markdown",
      "metadata": {
        "id": "i8l0gFqRCpfT"
      },
      "source": [
        "Repita os exercícios da parte 1 (listas). Os elementos da lista `filmes` devem ser dicionários no seguinte formato: `{'nome': <nome-do-filme>, 'ano': <ano do filme>}, 'sinopse': <sinopse do filme>}`. "
      ]
    },
    {
      "cell_type": "code",
      "metadata": {
        "id": "tu6MSFwGDnHv",
        "colab": {
          "base_uri": "https://localhost:8080/"
        },
        "outputId": "91b6f818-7360-4cc8-bacb-93fa3f5d5f8e"
      },
      "source": [
        "filmes = [\n",
        "    {'filme': 'Um Sonho de Liberdade','ano': 1994,'sinopse': 'Andy Dufresne é condenado a duas prisões...'},\n",
        "    {'filme': 'O Poderoso Chefão','ano': 1972,'sinopse': 'Uma família mafiosa luta para estabelecer sua...'},\n",
        "    {'filme': 'O Poderoso Chefão II','ano': 1974,'sinopse': 'Depois da máfia matar sua família, o jovem...'},\n",
        "    {'filme': 'Batman: O Cavaleiro das Trevas','ano': 2008,'sinopse': 'Com a ajuda de Jim Gordon e Harvey...'},\n",
        "    {'filme': 'A Lista de Schindler','ano': 1993,'sinopse': 'O alemão Oskar Schindler viu na mão de obra...'},\n",
        "    {'filme': '12 Homens e uma Sentença','ano': 1957,'sinopse': 'Seguindo o encerramento do caso do...'},\n",
        "    {'filme': 'Pulp Fiction: Tempo de Violência','ano': 1994,'sinopse': 'Assassino que trabalha para a máfia...'},\n",
        "    {'filme': 'O Senhor dos Anéis: O Retorno do Rei','ano': 2003,'sinopse': 'O confronto final entre as forças...'},\n",
        "    {'filme': 'Três Homens em Conflito','ano': 1966,'sinopse': 'Durante a Guerra Civil Americana, um pistoleiro...'},\n",
        "    {'filme': 'Clube da Luta','ano': 1999,'sinopse': 'Um homem deprimido que sofre de insônia conhece um...'}\n",
        "]\n",
        "print(filmes)\n",
        "print(type(filmes))\n",
        "print(len(filmes))"
      ],
      "execution_count": 9,
      "outputs": [
        {
          "output_type": "stream",
          "name": "stdout",
          "text": [
            "[{'filme': 'Um Sonho de Liberdade', 'ano': 1994, 'sinopse': 'Andy Dufresne é condenado a duas prisões...'}, {'filme': 'O Poderoso Chefão', 'ano': 1972, 'sinopse': 'Uma família mafiosa luta para estabelecer sua...'}, {'filme': 'O Poderoso Chefão II', 'ano': 1974, 'sinopse': 'Depois da máfia matar sua família, o jovem...'}, {'filme': 'Batman: O Cavaleiro das Trevas', 'ano': 2008, 'sinopse': 'Com a ajuda de Jim Gordon e Harvey...'}, {'filme': 'A Lista de Schindler', 'ano': 1993, 'sinopse': 'O alemão Oskar Schindler viu na mão de obra...'}, {'filme': '12 Homens e uma Sentença', 'ano': 1957, 'sinopse': 'Seguindo o encerramento do caso do...'}, {'filme': 'Pulp Fiction: Tempo de Violência', 'ano': 1994, 'sinopse': 'Assassino que trabalha para a máfia...'}, {'filme': 'O Senhor dos Anéis: O Retorno do Rei', 'ano': 2003, 'sinopse': 'O confronto final entre as forças...'}, {'filme': 'Três Homens em Conflito', 'ano': 1966, 'sinopse': 'Durante a Guerra Civil Americana, um pistoleiro...'}, {'filme': 'Clube da Luta', 'ano': 1999, 'sinopse': 'Um homem deprimido que sofre de insônia conhece um...'}]\n",
            "<class 'list'>\n",
            "10\n"
          ]
        }
      ]
    }
  ]
}